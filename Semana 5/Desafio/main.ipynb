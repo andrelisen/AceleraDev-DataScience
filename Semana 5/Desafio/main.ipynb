{
 "cells": [
  {
   "cell_type": "markdown",
   "metadata": {},
   "source": [
    "# Desafio 4\n",
    "\n",
    "Neste desafio, vamos praticar um pouco sobre testes de hipóteses. Utilizaremos o _data set_ [2016 Olympics in Rio de Janeiro](https://www.kaggle.com/rio2016/olympic-games/), que contém dados sobre os atletas das Olimpíadas de 2016 no Rio de Janeiro.\n",
    "\n",
    "Esse _data set_ conta com informações gerais sobre 11538 atletas como nome, nacionalidade, altura, peso e esporte praticado. Estaremos especialmente interessados nas variáveis numéricas altura (`height`) e peso (`weight`). As análises feitas aqui são parte de uma Análise Exploratória de Dados (EDA).\n",
    "\n",
    "> Obs.: Por favor, não modifique o nome das funções de resposta."
   ]
  },
  {
   "cell_type": "markdown",
   "metadata": {},
   "source": [
    "## _Setup_ geral"
   ]
  },
  {
   "cell_type": "code",
   "execution_count": 2,
   "metadata": {},
   "outputs": [],
   "source": [
    "import pandas as pd\n",
    "import matplotlib.pyplot as plt\n",
    "import numpy as np\n",
    "import scipy.stats as sct\n",
    "import seaborn as sns"
   ]
  },
  {
   "cell_type": "code",
   "execution_count": 3,
   "metadata": {},
   "outputs": [
    {
     "data": {
      "text/plain": [
       "'%matplotlib inline\\n\\nfrom IPython.core.pylabtools import figsize\\n\\n\\nfigsize(12, 8)\\n\\nsns.set()'"
      ]
     },
     "execution_count": 3,
     "metadata": {},
     "output_type": "execute_result"
    }
   ],
   "source": [
    "'''%matplotlib inline\n",
    "\n",
    "from IPython.core.pylabtools import figsize\n",
    "\n",
    "\n",
    "figsize(12, 8)\n",
    "\n",
    "sns.set()'''"
   ]
  },
  {
   "cell_type": "code",
   "execution_count": 4,
   "metadata": {},
   "outputs": [],
   "source": [
    "athletes = pd.read_csv(\"athletes.csv\")"
   ]
  },
  {
   "cell_type": "code",
   "execution_count": 5,
   "metadata": {},
   "outputs": [],
   "source": [
    "def get_sample(df, col_name, n=100, seed=42):\n",
    "    \"\"\"Get a sample from a column of a dataframe.\n",
    "    \n",
    "    It drops any numpy.nan entries before sampling. The sampling\n",
    "    is performed without replacement.\n",
    "    \n",
    "    Example of numpydoc for those who haven't seen yet.\n",
    "    \n",
    "    Parameters\n",
    "    ----------\n",
    "    df : pandas.DataFrame\n",
    "        Source dataframe.\n",
    "    col_name : str\n",
    "        Name of the column to be sampled.\n",
    "    n : int\n",
    "        Sample size. Default is 100.\n",
    "    seed : int\n",
    "        Random seed. Default is 42.\n",
    "    \n",
    "    Returns\n",
    "    -------\n",
    "    pandas.Series\n",
    "        Sample of size n from dataframe's column.\n",
    "    \"\"\"\n",
    "    np.random.seed(seed)\n",
    "    \n",
    "    random_idx = np.random.choice(df[col_name].dropna().index, size=n, replace=False)\n",
    "    \n",
    "    return df.loc[random_idx, col_name]"
   ]
  },
  {
   "cell_type": "markdown",
   "metadata": {},
   "source": [
    "## Inicia sua análise a partir daqui"
   ]
  },
  {
   "cell_type": "code",
   "execution_count": 6,
   "metadata": {},
   "outputs": [
    {
     "data": {
      "text/plain": [
       "Index(['id', 'name', 'nationality', 'sex', 'dob', 'height', 'weight', 'sport',\n",
       "       'gold', 'silver', 'bronze'],\n",
       "      dtype='object')"
      ]
     },
     "execution_count": 6,
     "metadata": {},
     "output_type": "execute_result"
    }
   ],
   "source": [
    "athletes.columns"
   ]
  },
  {
   "cell_type": "code",
   "execution_count": 7,
   "metadata": {},
   "outputs": [
    {
     "name": "stdout",
     "output_type": "stream",
     "text": [
      "0        ESP\n",
      "1        KOR\n",
      "2        CAN\n",
      "3        MDA\n",
      "4        NZL\n",
      "5        AUS\n",
      "6        USA\n",
      "7        AUS\n",
      "8        ESP\n",
      "9        ETH\n",
      "10       ETH\n",
      "11       BRN\n",
      "12       IOA\n",
      "13       USA\n",
      "14       USA\n",
      "15       GBR\n",
      "16       UZB\n",
      "17       RSA\n",
      "18       NZL\n",
      "19       EGY\n",
      "20       MAR\n",
      "21       QAT\n",
      "22       SUD\n",
      "23       EGY\n",
      "24       MAR\n",
      "25       ESP\n",
      "26       SUD\n",
      "27       ALG\n",
      "28       ALG\n",
      "29       ALG\n",
      "        ... \n",
      "11508    AUS\n",
      "11509    GBR\n",
      "11510    NZL\n",
      "11511    GBR\n",
      "11512    ISR\n",
      "11513    ALG\n",
      "11514    MAR\n",
      "11515    GRE\n",
      "11516    UZB\n",
      "11517    HUN\n",
      "11518    HUN\n",
      "11519    SRB\n",
      "11520    BRN\n",
      "11521    CIV\n",
      "11522    KAZ\n",
      "11523    HUN\n",
      "11524    HUN\n",
      "11525    HUN\n",
      "11526    HUN\n",
      "11527    HUN\n",
      "11528    HUN\n",
      "11529    HUN\n",
      "11530    HUN\n",
      "11531    GEO\n",
      "11532    GEO\n",
      "11533    CUB\n",
      "11534    CZE\n",
      "11535    CHN\n",
      "11536    VIE\n",
      "11537    RSA\n",
      "Name: nationality, Length: 11538, dtype: object\n"
     ]
    }
   ],
   "source": [
    "nacionalidade = athletes['nationality']\n",
    "print(nacionalidade)"
   ]
  },
  {
   "cell_type": "code",
   "execution_count": 8,
   "metadata": {},
   "outputs": [
    {
     "data": {
      "text/plain": [
       "id               0\n",
       "name             0\n",
       "nationality      0\n",
       "sex              0\n",
       "dob              1\n",
       "height         330\n",
       "weight         659\n",
       "sport            0\n",
       "gold             0\n",
       "silver           0\n",
       "bronze           0\n",
       "dtype: int64"
      ]
     },
     "execution_count": 8,
     "metadata": {},
     "output_type": "execute_result"
    }
   ],
   "source": [
    "athletes.isna().sum()"
   ]
  },
  {
   "cell_type": "code",
   "execution_count": 9,
   "metadata": {},
   "outputs": [],
   "source": [
    "altura = athletes['height']"
   ]
  },
  {
   "cell_type": "code",
   "execution_count": 10,
   "metadata": {},
   "outputs": [],
   "source": [
    "peso = athletes['weight']"
   ]
  },
  {
   "cell_type": "code",
   "execution_count": 11,
   "metadata": {},
   "outputs": [
    {
     "data": {
      "text/plain": [
       "0        1.72\n",
       "1        1.68\n",
       "2        1.98\n",
       "3        1.83\n",
       "4        1.81\n",
       "5        1.80\n",
       "6        2.05\n",
       "7        1.93\n",
       "8        1.80\n",
       "9        1.65\n",
       "10       1.70\n",
       "11       1.75\n",
       "12        NaN\n",
       "13       1.61\n",
       "14       1.78\n",
       "15       1.76\n",
       "16       1.61\n",
       "17       1.75\n",
       "18       1.75\n",
       "19       2.10\n",
       "20       1.73\n",
       "21       1.85\n",
       "22       1.77\n",
       "23       1.76\n",
       "24       1.90\n",
       "25       1.75\n",
       "26       1.81\n",
       "27       1.85\n",
       "28       1.86\n",
       "29       1.86\n",
       "         ... \n",
       "11508    1.68\n",
       "11509    1.76\n",
       "11510    1.83\n",
       "11511    1.72\n",
       "11512    1.78\n",
       "11513    1.78\n",
       "11514    1.65\n",
       "11515    1.65\n",
       "11516    1.68\n",
       "11517    1.84\n",
       "11518    2.04\n",
       "11519    1.68\n",
       "11520    1.75\n",
       "11521    1.75\n",
       "11522    1.65\n",
       "11523    1.75\n",
       "11524    1.64\n",
       "11525    1.64\n",
       "11526    1.70\n",
       "11527    1.80\n",
       "11528    1.58\n",
       "11529    1.95\n",
       "11530    1.85\n",
       "11531    1.83\n",
       "11532    1.71\n",
       "11533    1.64\n",
       "11534    1.73\n",
       "11535    1.85\n",
       "11536    1.60\n",
       "11537    1.85\n",
       "Name: height, Length: 11538, dtype: float64"
      ]
     },
     "execution_count": 11,
     "metadata": {},
     "output_type": "execute_result"
    }
   ],
   "source": [
    "altura"
   ]
  },
  {
   "cell_type": "code",
   "execution_count": 12,
   "metadata": {},
   "outputs": [
    {
     "data": {
      "text/plain": [
       "0         64.0\n",
       "1         56.0\n",
       "2         79.0\n",
       "3         80.0\n",
       "4         71.0\n",
       "5         67.0\n",
       "6         98.0\n",
       "7        100.0\n",
       "8         62.0\n",
       "9         54.0\n",
       "10        63.0\n",
       "11        66.0\n",
       "12         NaN\n",
       "13        49.0\n",
       "14        68.0\n",
       "15        71.0\n",
       "16        57.0\n",
       "17        64.0\n",
       "18        68.0\n",
       "19        88.0\n",
       "20        57.0\n",
       "21        80.0\n",
       "22        65.0\n",
       "23        80.0\n",
       "24        72.0\n",
       "25        67.0\n",
       "26        72.0\n",
       "27        75.0\n",
       "28         NaN\n",
       "29        70.0\n",
       "         ...  \n",
       "11508     50.0\n",
       "11509     70.0\n",
       "11510     74.0\n",
       "11511     58.0\n",
       "11512     61.0\n",
       "11513      NaN\n",
       "11514      NaN\n",
       "11515     47.0\n",
       "11516     61.0\n",
       "11517      NaN\n",
       "11518    132.0\n",
       "11519     90.0\n",
       "11520     69.0\n",
       "11521     57.0\n",
       "11522     67.0\n",
       "11523     80.0\n",
       "11524     89.0\n",
       "11525     53.0\n",
       "11526     54.0\n",
       "11527     58.0\n",
       "11528     49.0\n",
       "11529     95.0\n",
       "11530     70.0\n",
       "11531     75.0\n",
       "11532     68.0\n",
       "11533     58.0\n",
       "11534     63.0\n",
       "11535    100.0\n",
       "11536     56.0\n",
       "11537     70.0\n",
       "Name: weight, Length: 11538, dtype: float64"
      ]
     },
     "execution_count": 12,
     "metadata": {},
     "output_type": "execute_result"
    }
   ],
   "source": [
    "peso"
   ]
  },
  {
   "cell_type": "code",
   "execution_count": 13,
   "metadata": {},
   "outputs": [
    {
     "name": "stdout",
     "output_type": "stream",
     "text": [
      "3000\n"
     ]
    }
   ],
   "source": [
    "#amostra aleatória de tamanho 3000\n",
    "amostra = get_sample(athletes, 'height', 3000, 42)\n",
    "print(amostra.count())"
   ]
  },
  {
   "cell_type": "markdown",
   "metadata": {},
   "source": [
    "## Questão 1\n",
    "\n",
    "Considerando uma amostra de tamanho 3000 da coluna `height` obtida com a função `get_sample()`, execute o teste de normalidade de Shapiro-Wilk com a função `scipy.stats.shapiro()`. Podemos afirmar que as alturas são normalmente distribuídas com base nesse teste (ao nível de significância de 5%)? Responda com um boolean (`True` ou `False`)."
   ]
  },
  {
   "cell_type": "code",
   "execution_count": 14,
   "metadata": {},
   "outputs": [],
   "source": [
    "def q1():\n",
    "    # Retorne aqui o resultado da questão 1.    \n",
    "    #teste de normalidade shapiro-wilk\n",
    "    teste_shapiro = sct.shapiro(amostra) #retorno da função do shapiro = (estatística de teste, p-valor)\n",
    "    print(teste_shapiro)\n",
    "    \n",
    "    #Para afirmar ou refutar se as alturas são distribuídas normalmente com nível de significancia 5%(alpha)\n",
    "    alpha = 0.05\n",
    "    p_valor = teste_shapiro[1]\n",
    "    print('Valor do p-valor=', p_valor)\n",
    "    \n",
    "    if p_valor > alpha:\n",
    "        return True\n",
    "    else:\n",
    "        return False\n",
    "    \n",
    "    pass"
   ]
  },
  {
   "cell_type": "code",
   "execution_count": 15,
   "metadata": {},
   "outputs": [
    {
     "name": "stdout",
     "output_type": "stream",
     "text": [
      "(0.9961519837379456, 5.681722541339695e-07)\n",
      "Valor do p-valor= 5.681722541339695e-07\n"
     ]
    },
    {
     "data": {
      "text/plain": [
       "False"
      ]
     },
     "execution_count": 15,
     "metadata": {},
     "output_type": "execute_result"
    }
   ],
   "source": [
    "q1()"
   ]
  },
  {
   "cell_type": "markdown",
   "metadata": {},
   "source": [
    "__Para refletir__:\n",
    "\n",
    "* Plote o histograma dessa variável (com, por exemplo, `bins=25`). A forma do gráfico e o resultado do teste são condizentes? Por que?\n",
    "* Plote o qq-plot para essa variável e a analise.\n",
    "* Existe algum nível de significância razoável que nos dê outro resultado no teste? (Não faça isso na prática. Isso é chamado _p-value hacking_, e não é legal)."
   ]
  },
  {
   "cell_type": "markdown",
   "metadata": {},
   "source": [
    "## Questão 2\n",
    "\n",
    "Repita o mesmo procedimento acima, mas agora utilizando o teste de normalidade de Jarque-Bera através da função `scipy.stats.jarque_bera()`. Agora podemos afirmar que as alturas são normalmente distribuídas (ao nível de significância de 5%)? Responda com um boolean (`True` ou `False`)."
   ]
  },
  {
   "cell_type": "code",
   "execution_count": 16,
   "metadata": {},
   "outputs": [],
   "source": [
    "def q2():\n",
    "    # Retorne aqui o resultado da questão 2.\n",
    "    #teste de normalidade shapiro-wilk\n",
    "    teste_jarque = sct.jarque_bera(amostra) #retorno da função do jaruqe = (estatística de teste, p-valor)\n",
    "    print(teste_jarque)\n",
    "    \n",
    "    #Para afirmar ou refutar se as alturas são distribuídas normalmente com nível de significancia 5%(alpha)\n",
    "    alpha = 0.05\n",
    "    p_valor = teste_jarque[1]\n",
    "    print('Valor do p-valor=', p_valor)\n",
    "    \n",
    "    if p_valor > alpha:\n",
    "        return True\n",
    "    else:\n",
    "        return False\n",
    "    pass"
   ]
  },
  {
   "cell_type": "code",
   "execution_count": 17,
   "metadata": {},
   "outputs": [
    {
     "name": "stdout",
     "output_type": "stream",
     "text": [
      "(13.03363513594265, 0.001478366424594868)\n",
      "Valor do p-valor= 0.001478366424594868\n"
     ]
    },
    {
     "data": {
      "text/plain": [
       "False"
      ]
     },
     "execution_count": 17,
     "metadata": {},
     "output_type": "execute_result"
    }
   ],
   "source": [
    "q2()"
   ]
  },
  {
   "cell_type": "markdown",
   "metadata": {},
   "source": [
    "__Para refletir__:\n",
    "\n",
    "* Esse resultado faz sentido?"
   ]
  },
  {
   "cell_type": "code",
   "execution_count": 18,
   "metadata": {},
   "outputs": [],
   "source": [
    "amostra_2 = get_sample(athletes, 'weight', 3000, 42)"
   ]
  },
  {
   "cell_type": "markdown",
   "metadata": {},
   "source": [
    "## Questão 3\n",
    "\n",
    "Considerando agora uma amostra de tamanho 3000 da coluna `weight` obtida com a função `get_sample()`. Faça o teste de normalidade de D'Agostino-Pearson utilizando a função `scipy.stats.normaltest()`. Podemos afirmar que os pesos vêm de uma distribuição normal ao nível de significância de 5%? Responda com um boolean (`True` ou `False`)."
   ]
  },
  {
   "cell_type": "code",
   "execution_count": 19,
   "metadata": {},
   "outputs": [],
   "source": [
    "def q3():\n",
    "    # Retorne aqui o resultado da questão 3.\n",
    "    #teste de normalidade shapiro-wilk\n",
    "    teste_agostino = sct.normaltest(amostra_2) #retorno da função do d'agostino-pearson =\n",
    "    # = (estatística de teste, p-valor)\n",
    "    print(teste_agostino)\n",
    "    \n",
    "    #Para afirmar ou refutar se as alturas são distribuídas normalmente com nível de significancia 5%(alpha)\n",
    "    alpha = 0.05\n",
    "    p_valor = teste_agostino[1]\n",
    "    print('Valor do p-valor=', p_valor)\n",
    "    \n",
    "    if p_valor > alpha:\n",
    "        return True\n",
    "    else:\n",
    "        return False\n",
    "    pass"
   ]
  },
  {
   "cell_type": "code",
   "execution_count": 20,
   "metadata": {},
   "outputs": [
    {
     "name": "stdout",
     "output_type": "stream",
     "text": [
      "NormaltestResult(statistic=510.24655809881176, pvalue=1.5898922918029537e-111)\n",
      "Valor do p-valor= 1.5898922918029537e-111\n"
     ]
    },
    {
     "data": {
      "text/plain": [
       "False"
      ]
     },
     "execution_count": 20,
     "metadata": {},
     "output_type": "execute_result"
    }
   ],
   "source": [
    "q3()"
   ]
  },
  {
   "cell_type": "markdown",
   "metadata": {},
   "source": [
    "__Para refletir__:\n",
    "\n",
    "* Plote o histograma dessa variável (com, por exemplo, `bins=25`). A forma do gráfico e o resultado do teste são condizentes? Por que?\n",
    "* Um _box plot_ também poderia ajudar a entender a resposta."
   ]
  },
  {
   "cell_type": "markdown",
   "metadata": {},
   "source": [
    "## Questão 4\n",
    "\n",
    "Realize uma transformação logarítmica em na amostra de `weight` da questão 3 e repita o mesmo procedimento. Podemos afirmar a normalidade da variável transformada ao nível de significância de 5%? Responda com um boolean (`True` ou `False`)."
   ]
  },
  {
   "cell_type": "code",
   "execution_count": 30,
   "metadata": {},
   "outputs": [],
   "source": [
    "def q4():\n",
    "    # Retorne aqui o resultado da questão 4.\n",
    "    amostra_log = np.log(amostra) #função que realiza transformação logarítmica\n",
    "    \n",
    "    teste_agostino = sct.normaltest(amostra_log) #retorno da função do d'agostino-pearson =\n",
    "    # = (estatística de teste, p-valor)\n",
    "    print(teste_agostino)\n",
    "    \n",
    "    #Para afirmar ou refutar se as alturas são distribuídas normalmente com nível de significancia 5%(alpha)\n",
    "    alpha = 0.05\n",
    "    p_valor = teste_agostino[1]\n",
    "    print('Valor do p-valor=', p_valor)\n",
    "    \n",
    "    if p_valor > alpha:\n",
    "        return True\n",
    "    else:\n",
    "        return False\n",
    "    \n",
    "    pass"
   ]
  },
  {
   "cell_type": "code",
   "execution_count": 31,
   "metadata": {},
   "outputs": [
    {
     "name": "stdout",
     "output_type": "stream",
     "text": [
      "NormaltestResult(statistic=0.4945127034081015, pvalue=0.7809404724480906)\n",
      "Valor do p-valor= 0.7809404724480906\n"
     ]
    },
    {
     "data": {
      "text/plain": [
       "True"
      ]
     },
     "execution_count": 31,
     "metadata": {},
     "output_type": "execute_result"
    }
   ],
   "source": [
    "q4()"
   ]
  },
  {
   "cell_type": "markdown",
   "metadata": {},
   "source": [
    "__Para refletir__:\n",
    "\n",
    "* Plote o histograma dessa variável (com, por exemplo, `bins=25`). A forma do gráfico e o resultado do teste são condizentes? Por que?\n",
    "* Você esperava um resultado diferente agora?"
   ]
  },
  {
   "cell_type": "markdown",
   "metadata": {},
   "source": [
    "> __Para as questão 5 6 e 7 a seguir considere todos testes efetuados ao nível de significância de 5%__."
   ]
  },
  {
   "cell_type": "markdown",
   "metadata": {},
   "source": [
    "## Questão 5\n",
    "\n",
    "Obtenha todos atletas brasileiros, norte-americanos e canadenses em `DataFrame`s chamados `bra`, `usa` e `can`,respectivamente. Realize um teste de hipóteses para comparação das médias das alturas (`height`) para amostras independentes e variâncias diferentes com a função `scipy.stats.ttest_ind()` entre `bra` e `usa`. Podemos afirmar que as médias são estatisticamente iguais? Responda com um boolean (`True` ou `False`)."
   ]
  },
  {
   "cell_type": "code",
   "execution_count": 23,
   "metadata": {},
   "outputs": [],
   "source": [
    "bra = athletes[(athletes['nationality'] == \"BRA\")] \n",
    "usa = athletes[(athletes['nationality'] == \"USA\")] \n",
    "can = athletes[(athletes['nationality'] == \"CAN\")] "
   ]
  },
  {
   "cell_type": "code",
   "execution_count": 24,
   "metadata": {},
   "outputs": [],
   "source": [
    "def q5():\n",
    "    # Retorne aqui o resultado da questão 5.\n",
    "    teste_hip = sct.ttest_ind(bra['height'], usa['height'], equal_var = False, nan_policy='omit')\n",
    "    #retorno da função ttest_ind é (estatística, pvalor)\n",
    "    print(teste_hip)\n",
    "    \n",
    "    alpha = 0.05\n",
    "    p_valor = teste_hip[1]\n",
    "    print('Valor do p-valor=', p_valor)\n",
    "    \n",
    "    if p_valor > alpha:\n",
    "        return True\n",
    "    else:\n",
    "        return False\n",
    "    \n",
    "    pass"
   ]
  },
  {
   "cell_type": "code",
   "execution_count": 25,
   "metadata": {},
   "outputs": [
    {
     "name": "stdout",
     "output_type": "stream",
     "text": [
      "Ttest_indResult(statistic=-3.2232436467501855, pvalue=0.0013080041830140115)\n",
      "Valor do p-valor= 0.0013080041830140115\n"
     ]
    },
    {
     "data": {
      "text/plain": [
       "False"
      ]
     },
     "execution_count": 25,
     "metadata": {},
     "output_type": "execute_result"
    }
   ],
   "source": [
    "q5()"
   ]
  },
  {
   "cell_type": "markdown",
   "metadata": {},
   "source": [
    "## Questão 6\n",
    "\n",
    "Repita o procedimento da questão 5, mas agora entre as alturas de `bra` e `can`. Podemos afimar agora que as médias são estatisticamente iguais? Reponda com um boolean (`True` ou `False`)."
   ]
  },
  {
   "cell_type": "code",
   "execution_count": 26,
   "metadata": {},
   "outputs": [],
   "source": [
    "def q6():\n",
    "    # Retorne aqui o resultado da questão 6.\n",
    "    \n",
    "    teste_hip = sct.ttest_ind(bra['height'], can['height'], equal_var = False, nan_policy='omit')\n",
    "    #retorno da função ttest_ind é (estatística, pvalor)\n",
    "    print(teste_hip)\n",
    "    \n",
    "    alpha = 0.05\n",
    "    p_valor = teste_hip[1]\n",
    "    print('Valor do p-valor=', p_valor)\n",
    "    \n",
    "    if p_valor > alpha:\n",
    "        return True\n",
    "    else:\n",
    "        return False\n",
    "    pass"
   ]
  },
  {
   "cell_type": "code",
   "execution_count": 27,
   "metadata": {},
   "outputs": [
    {
     "name": "stdout",
     "output_type": "stream",
     "text": [
      "Ttest_indResult(statistic=0.6389304914365109, pvalue=0.5230827295440921)\n",
      "Valor do p-valor= 0.5230827295440921\n"
     ]
    },
    {
     "data": {
      "text/plain": [
       "True"
      ]
     },
     "execution_count": 27,
     "metadata": {},
     "output_type": "execute_result"
    }
   ],
   "source": [
    "q6()"
   ]
  },
  {
   "cell_type": "markdown",
   "metadata": {},
   "source": [
    "## Questão 7\n",
    "\n",
    "Repita o procedimento da questão 6, mas agora entre as alturas de `usa` e `can`. Qual o valor do p-valor retornado? Responda como um único escalar arredondado para oito casas decimais."
   ]
  },
  {
   "cell_type": "code",
   "execution_count": 28,
   "metadata": {},
   "outputs": [],
   "source": [
    "def q7():\n",
    "    # Retorne aqui o resultado da questão 7.\n",
    "    teste_hip = sct.ttest_ind(usa['height'], can['height'], equal_var = False, nan_policy='omit')\n",
    "    #retorno da função ttest_ind é (estatística, pvalor)\n",
    "    print(teste_hip)\n",
    "    \n",
    "    p_valor = teste_hip[1]\n",
    "    print('Valor do p-valor=', p_valor)\n",
    "    return float(round(p_valor, 8))\n",
    "    \n",
    "    pass"
   ]
  },
  {
   "cell_type": "code",
   "execution_count": 29,
   "metadata": {},
   "outputs": [
    {
     "name": "stdout",
     "output_type": "stream",
     "text": [
      "Ttest_indResult(statistic=3.516987632488539, pvalue=0.0004660129347389851)\n",
      "Valor do p-valor= 0.0004660129347389851\n"
     ]
    },
    {
     "data": {
      "text/plain": [
       "0.00046601"
      ]
     },
     "execution_count": 29,
     "metadata": {},
     "output_type": "execute_result"
    }
   ],
   "source": [
    "q7()"
   ]
  },
  {
   "cell_type": "markdown",
   "metadata": {},
   "source": [
    "__Para refletir__:\n",
    "\n",
    "* O resultado faz sentido?\n",
    "* Você consegue interpretar esse p-valor?\n",
    "* Você consegue chegar a esse valor de p-valor a partir da variável de estatística?"
   ]
  }
 ],
 "metadata": {
  "kernelspec": {
   "display_name": "Python 3",
   "language": "python",
   "name": "python3"
  },
  "language_info": {
   "codemirror_mode": {
    "name": "ipython",
    "version": 3
   },
   "file_extension": ".py",
   "mimetype": "text/x-python",
   "name": "python",
   "nbconvert_exporter": "python",
   "pygments_lexer": "ipython3",
   "version": "3.7.6"
  }
 },
 "nbformat": 4,
 "nbformat_minor": 2
}
