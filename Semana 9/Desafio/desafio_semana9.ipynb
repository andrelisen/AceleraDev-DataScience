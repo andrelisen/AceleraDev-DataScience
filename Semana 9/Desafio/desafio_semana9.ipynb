{
 "cells": [
  {
   "cell_type": "markdown",
   "metadata": {},
   "source": [
    "## DESAFIO SEMANA 9 - ACELERADEV DATA SCIENCE\n",
    "> O objetivo desse desafio é **descobrir** quem fe"
   ]
  },
  {
   "cell_type": "code",
   "execution_count": 24,
   "metadata": {},
   "outputs": [],
   "source": [
    "#Importando as bibliotecas necessárias\n",
    "import functools\n",
    "from math import sqrt\n",
    "\n",
    "import pandas as pd\n",
    "import matplotlib.pyplot as plt\n",
    "import numpy as np\n",
    "import statsmodels.api as sm\n",
    "import scipy.stats as sct\n",
    "import seaborn as sns\n",
    "from imblearn.over_sampling import SMOTE\n",
    "from sklearn.datasets import make_blobs, make_classification\n",
    "from sklearn.decomposition import PCA\n",
    "from sklearn.ensemble import BaggingClassifier, RandomForestClassifier\n",
    "from sklearn.linear_model import LogisticRegression\n",
    "from sklearn.model_selection import train_test_split\n",
    "from sklearn.neighbors import KNeighborsClassifier\n",
    "from sklearn.tree import DecisionTreeClassifier, plot_tree"
   ]
  },
  {
   "cell_type": "code",
   "execution_count": 25,
   "metadata": {},
   "outputs": [],
   "source": [
    "#Leitura dos datasets \n",
    "data_train = pd.read_csv('train.csv')\n",
    "data_test = pd.read_csv('test.csv')"
   ]
  },
  {
   "cell_type": "code",
   "execution_count": 26,
   "metadata": {},
   "outputs": [
    {
     "name": "stdout",
     "output_type": "stream",
     "text": [
      "Colunas de data_train:\n"
     ]
    },
    {
     "data": {
      "text/plain": [
       "array(['Unnamed: 0', 'NU_INSCRICAO', 'NU_ANO', 'CO_MUNICIPIO_RESIDENCIA',\n",
       "       'NO_MUNICIPIO_RESIDENCIA', 'CO_UF_RESIDENCIA', 'SG_UF_RESIDENCIA',\n",
       "       'NU_IDADE', 'TP_SEXO', 'TP_ESTADO_CIVIL', 'TP_COR_RACA',\n",
       "       'TP_NACIONALIDADE', 'CO_MUNICIPIO_NASCIMENTO',\n",
       "       'NO_MUNICIPIO_NASCIMENTO', 'CO_UF_NASCIMENTO', 'SG_UF_NASCIMENTO',\n",
       "       'TP_ST_CONCLUSAO', 'TP_ANO_CONCLUIU', 'TP_ESCOLA', 'TP_ENSINO',\n",
       "       'IN_TREINEIRO', 'CO_ESCOLA', 'CO_MUNICIPIO_ESC',\n",
       "       'NO_MUNICIPIO_ESC', 'CO_UF_ESC', 'SG_UF_ESC',\n",
       "       'TP_DEPENDENCIA_ADM_ESC', 'TP_LOCALIZACAO_ESC', 'TP_SIT_FUNC_ESC',\n",
       "       'IN_BAIXA_VISAO', 'IN_CEGUEIRA', 'IN_SURDEZ',\n",
       "       'IN_DEFICIENCIA_AUDITIVA', 'IN_SURDO_CEGUEIRA',\n",
       "       'IN_DEFICIENCIA_FISICA', 'IN_DEFICIENCIA_MENTAL',\n",
       "       'IN_DEFICIT_ATENCAO', 'IN_DISLEXIA', 'IN_DISCALCULIA',\n",
       "       'IN_AUTISMO', 'IN_VISAO_MONOCULAR', 'IN_OUTRA_DEF', 'IN_SABATISTA',\n",
       "       'IN_GESTANTE', 'IN_LACTANTE', 'IN_IDOSO',\n",
       "       'IN_ESTUDA_CLASSE_HOSPITALAR', 'IN_SEM_RECURSO', 'IN_BRAILLE',\n",
       "       'IN_AMPLIADA_24', 'IN_AMPLIADA_18', 'IN_LEDOR', 'IN_ACESSO',\n",
       "       'IN_TRANSCRICAO', 'IN_LIBRAS', 'IN_LEITURA_LABIAL',\n",
       "       'IN_MESA_CADEIRA_RODAS', 'IN_MESA_CADEIRA_SEPARADA',\n",
       "       'IN_APOIO_PERNA', 'IN_GUIA_INTERPRETE', 'IN_MACA', 'IN_COMPUTADOR',\n",
       "       'IN_CADEIRA_ESPECIAL', 'IN_CADEIRA_CANHOTO',\n",
       "       'IN_CADEIRA_ACOLCHOADA', 'IN_PROVA_DEITADO', 'IN_MOBILIARIO_OBESO',\n",
       "       'IN_LAMINA_OVERLAY', 'IN_PROTETOR_AURICULAR', 'IN_MEDIDOR_GLICOSE',\n",
       "       'IN_MAQUINA_BRAILE', 'IN_SOROBAN', 'IN_MARCA_PASSO', 'IN_SONDA',\n",
       "       'IN_MEDICAMENTOS', 'IN_SALA_INDIVIDUAL', 'IN_SALA_ESPECIAL',\n",
       "       'IN_SALA_ACOMPANHANTE', 'IN_MOBILIARIO_ESPECIFICO',\n",
       "       'IN_MATERIAL_ESPECIFICO', 'IN_NOME_SOCIAL', 'IN_CERTIFICADO',\n",
       "       'NO_ENTIDADE_CERTIFICACAO', 'CO_UF_ENTIDADE_CERTIFICACAO',\n",
       "       'SG_UF_ENTIDADE_CERTIFICACAO', 'CO_MUNICIPIO_PROVA',\n",
       "       'NO_MUNICIPIO_PROVA', 'CO_UF_PROVA', 'SG_UF_PROVA',\n",
       "       'TP_PRESENCA_CN', 'TP_PRESENCA_CH', 'TP_PRESENCA_LC',\n",
       "       'TP_PRESENCA_MT', 'CO_PROVA_CN', 'CO_PROVA_CH', 'CO_PROVA_LC',\n",
       "       'CO_PROVA_MT', 'NU_NOTA_CN', 'NU_NOTA_CH', 'NU_NOTA_LC',\n",
       "       'NU_NOTA_MT', 'TX_RESPOSTAS_CN', 'TX_RESPOSTAS_CH',\n",
       "       'TX_RESPOSTAS_LC', 'TX_RESPOSTAS_MT', 'TP_LINGUA',\n",
       "       'TX_GABARITO_CN', 'TX_GABARITO_CH', 'TX_GABARITO_LC',\n",
       "       'TX_GABARITO_MT', 'TP_STATUS_REDACAO', 'NU_NOTA_COMP1',\n",
       "       'NU_NOTA_COMP2', 'NU_NOTA_COMP3', 'NU_NOTA_COMP4', 'NU_NOTA_COMP5',\n",
       "       'NU_NOTA_REDACAO', 'Q001', 'Q002', 'Q003', 'Q004', 'Q005', 'Q006',\n",
       "       'Q007', 'Q008', 'Q009', 'Q010', 'Q011', 'Q012', 'Q013', 'Q014',\n",
       "       'Q015', 'Q016', 'Q017', 'Q018', 'Q019', 'Q020', 'Q021', 'Q022',\n",
       "       'Q023', 'Q024', 'Q025', 'Q026', 'Q027', 'Q028', 'Q029', 'Q030',\n",
       "       'Q031', 'Q032', 'Q033', 'Q034', 'Q035', 'Q036', 'Q037', 'Q038',\n",
       "       'Q039', 'Q040', 'Q041', 'Q042', 'Q043', 'Q044', 'Q045', 'Q046',\n",
       "       'Q047', 'Q048', 'Q049', 'Q050'], dtype=object)"
      ]
     },
     "execution_count": 26,
     "metadata": {},
     "output_type": "execute_result"
    }
   ],
   "source": [
    "#Visualizando as colunas de cada dataset\n",
    "print('Colunas de data_train:')\n",
    "data_train.columns.values"
   ]
  },
  {
   "cell_type": "code",
   "execution_count": 27,
   "metadata": {},
   "outputs": [
    {
     "name": "stdout",
     "output_type": "stream",
     "text": [
      "Colunas de data_test:\n"
     ]
    },
    {
     "data": {
      "text/plain": [
       "array(['NU_INSCRICAO', 'CO_UF_RESIDENCIA', 'SG_UF_RESIDENCIA', 'NU_IDADE',\n",
       "       'TP_SEXO', 'TP_COR_RACA', 'TP_NACIONALIDADE', 'TP_ST_CONCLUSAO',\n",
       "       'TP_ANO_CONCLUIU', 'TP_ESCOLA', 'TP_ENSINO',\n",
       "       'TP_DEPENDENCIA_ADM_ESC', 'IN_BAIXA_VISAO', 'IN_CEGUEIRA',\n",
       "       'IN_SURDEZ', 'IN_DISLEXIA', 'IN_DISCALCULIA', 'IN_SABATISTA',\n",
       "       'IN_GESTANTE', 'IN_IDOSO', 'TP_PRESENCA_CN', 'TP_PRESENCA_CH',\n",
       "       'TP_PRESENCA_LC', 'TP_PRESENCA_MT', 'NU_NOTA_CN', 'NU_NOTA_CH',\n",
       "       'NU_NOTA_LC', 'TP_LINGUA', 'TP_STATUS_REDACAO', 'NU_NOTA_COMP1',\n",
       "       'NU_NOTA_COMP2', 'NU_NOTA_COMP3', 'NU_NOTA_COMP4', 'NU_NOTA_COMP5',\n",
       "       'NU_NOTA_REDACAO', 'Q001', 'Q002', 'Q006', 'Q024', 'Q025', 'Q026',\n",
       "       'Q027', 'Q047'], dtype=object)"
      ]
     },
     "execution_count": 27,
     "metadata": {},
     "output_type": "execute_result"
    }
   ],
   "source": [
    "print('Colunas de data_test:')\n",
    "data_test.columns.values"
   ]
  },
  {
   "cell_type": "code",
   "execution_count": 60,
   "metadata": {},
   "outputs": [
    {
     "name": "stdout",
     "output_type": "stream",
     "text": [
      "As colunas diferentes entre o data_train e data_test é: ['IN_LEITURA_LABIAL', 'IN_LAMINA_OVERLAY', 'TX_RESPOSTAS_CN', 'Q038', 'IN_SEM_RECURSO', 'IN_MOBILIARIO_OBESO', 'IN_MARCA_PASSO', 'Q042', 'IN_MEDIDOR_GLICOSE', 'Q048', 'IN_PROVA_DEITADO', 'Q007', 'Q035', 'IN_DEFICIENCIA_MENTAL', 'Q029', 'NO_MUNICIPIO_RESIDENCIA', 'Q039', 'Q028', 'IN_SALA_ACOMPANHANTE', 'IN_MEDICAMENTOS', 'CO_MUNICIPIO_NASCIMENTO', 'Q036', 'NU_ANO', 'Q032', 'Q008', 'IN_ESTUDA_CLASSE_HOSPITALAR', 'IN_ACESSO', 'Q046', 'IN_DEFICIT_ATENCAO', 'IN_MESA_CADEIRA_RODAS', 'Q018', 'IN_LACTANTE', 'IN_AMPLIADA_18', 'Q017', 'SG_UF_ENTIDADE_CERTIFICACAO', 'Q034', 'IN_CERTIFICADO', 'Q044', 'NU_NOTA_MT', 'IN_MATERIAL_ESPECIFICO', 'CO_MUNICIPIO_PROVA', 'CO_UF_NASCIMENTO', 'IN_CADEIRA_ACOLCHOADA', 'CO_MUNICIPIO_ESC', 'IN_SONDA', 'CO_PROVA_MT', 'Q011', 'Q037', 'IN_SALA_ESPECIAL', 'IN_SOROBAN', 'IN_MESA_CADEIRA_SEPARADA', 'CO_PROVA_CH', 'Q041', 'Q043', 'IN_NOME_SOCIAL', 'Q019', 'IN_MOBILIARIO_ESPECIFICO', 'IN_DEFICIENCIA_FISICA', 'Q003', 'TX_GABARITO_LC', 'CO_PROVA_LC', 'NO_MUNICIPIO_NASCIMENTO', 'CO_UF_ENTIDADE_CERTIFICACAO', 'Q049', 'Q021', 'IN_GUIA_INTERPRETE', 'SG_UF_NASCIMENTO', 'IN_CADEIRA_ESPECIAL', 'Q030', 'IN_PROTETOR_AURICULAR', 'Unnamed: 0', 'IN_AUTISMO', 'IN_LIBRAS', 'IN_SURDO_CEGUEIRA', 'NO_ENTIDADE_CERTIFICACAO', 'Q045', 'CO_MUNICIPIO_RESIDENCIA', 'IN_TRANSCRICAO', 'CO_PROVA_CN', 'IN_DEFICIENCIA_AUDITIVA', 'Q013', 'NO_MUNICIPIO_ESC', 'TP_SIT_FUNC_ESC', 'IN_APOIO_PERNA', 'TX_RESPOSTAS_LC', 'Q031', 'IN_MACA', 'IN_BRAILLE', 'IN_COMPUTADOR', 'Q009', 'Q015', 'IN_MAQUINA_BRAILE', 'IN_LEDOR', 'Q023', 'IN_OUTRA_DEF', 'Q020', 'Q040', 'Q022', 'Q050', 'CO_ESCOLA', 'SG_UF_PROVA', 'Q014', 'IN_TREINEIRO', 'TX_RESPOSTAS_MT', 'IN_AMPLIADA_24', 'TX_GABARITO_CH', 'IN_SALA_INDIVIDUAL', 'Q005', 'IN_CADEIRA_CANHOTO', 'CO_UF_PROVA', 'Q004', 'SG_UF_ESC', 'IN_VISAO_MONOCULAR', 'NO_MUNICIPIO_PROVA', 'CO_UF_ESC', 'TX_GABARITO_MT', 'Q016', 'Q010', 'TP_ESTADO_CIVIL', 'Q012', 'TX_RESPOSTAS_CH', 'Q033', 'TX_GABARITO_CN', 'TP_LOCALIZACAO_ESC']\n"
     ]
    }
   ],
   "source": [
    "#Deixa o dataset com as mesmas colunas\n",
    "colunas_diferentes = list(set(data_train.columns).difference(set(data_test.columns)))\n",
    "print('As colunas diferentes entre o data_train e data_test é:', colunas_diferentes)\n",
    "\n",
    "#remove in_treineiro para ele não ser removido de data_train\n",
    "colunas_diferentes.remove('IN_TREINEIRO')\n",
    "\n",
    "data_train.drop(colunas_diferentes, axis=1, inplace=True)"
   ]
  },
  {
   "cell_type": "code",
   "execution_count": 62,
   "metadata": {},
   "outputs": [
    {
     "data": {
      "text/plain": [
       "array(['NU_INSCRICAO', 'CO_UF_RESIDENCIA', 'SG_UF_RESIDENCIA', 'NU_IDADE',\n",
       "       'TP_SEXO', 'TP_COR_RACA', 'TP_NACIONALIDADE', 'TP_ST_CONCLUSAO',\n",
       "       'TP_ANO_CONCLUIU', 'TP_ESCOLA', 'TP_ENSINO', 'IN_TREINEIRO',\n",
       "       'TP_DEPENDENCIA_ADM_ESC', 'IN_BAIXA_VISAO', 'IN_CEGUEIRA',\n",
       "       'IN_SURDEZ', 'IN_DISLEXIA', 'IN_DISCALCULIA', 'IN_SABATISTA',\n",
       "       'IN_GESTANTE', 'IN_IDOSO', 'TP_PRESENCA_CN', 'TP_PRESENCA_CH',\n",
       "       'TP_PRESENCA_LC', 'TP_PRESENCA_MT', 'NU_NOTA_CN', 'NU_NOTA_CH',\n",
       "       'NU_NOTA_LC', 'TP_LINGUA', 'TP_STATUS_REDACAO', 'NU_NOTA_COMP1',\n",
       "       'NU_NOTA_COMP2', 'NU_NOTA_COMP3', 'NU_NOTA_COMP4', 'NU_NOTA_COMP5',\n",
       "       'NU_NOTA_REDACAO', 'Q001', 'Q002', 'Q006', 'Q024', 'Q025', 'Q026',\n",
       "       'Q027', 'Q047'], dtype=object)"
      ]
     },
     "execution_count": 62,
     "metadata": {},
     "output_type": "execute_result"
    }
   ],
   "source": [
    "data_train.columns.values"
   ]
  },
  {
   "cell_type": "code",
   "execution_count": 64,
   "metadata": {},
   "outputs": [
    {
     "data": {
      "text/plain": [
       "array(['NU_INSCRICAO', 'CO_UF_RESIDENCIA', 'SG_UF_RESIDENCIA', 'NU_IDADE',\n",
       "       'TP_SEXO', 'TP_COR_RACA', 'TP_NACIONALIDADE', 'TP_ST_CONCLUSAO',\n",
       "       'TP_ANO_CONCLUIU', 'TP_ESCOLA', 'TP_ENSINO',\n",
       "       'TP_DEPENDENCIA_ADM_ESC', 'IN_BAIXA_VISAO', 'IN_CEGUEIRA',\n",
       "       'IN_SURDEZ', 'IN_DISLEXIA', 'IN_DISCALCULIA', 'IN_SABATISTA',\n",
       "       'IN_GESTANTE', 'IN_IDOSO', 'TP_PRESENCA_CN', 'TP_PRESENCA_CH',\n",
       "       'TP_PRESENCA_LC', 'TP_PRESENCA_MT', 'NU_NOTA_CN', 'NU_NOTA_CH',\n",
       "       'NU_NOTA_LC', 'TP_LINGUA', 'TP_STATUS_REDACAO', 'NU_NOTA_COMP1',\n",
       "       'NU_NOTA_COMP2', 'NU_NOTA_COMP3', 'NU_NOTA_COMP4', 'NU_NOTA_COMP5',\n",
       "       'NU_NOTA_REDACAO', 'Q001', 'Q002', 'Q006', 'Q024', 'Q025', 'Q026',\n",
       "       'Q027', 'Q047'], dtype=object)"
      ]
     },
     "execution_count": 64,
     "metadata": {},
     "output_type": "execute_result"
    }
   ],
   "source": [
    "data_test.columns.values"
   ]
  },
  {
   "cell_type": "code",
   "execution_count": 65,
   "metadata": {},
   "outputs": [
    {
     "name": "stdout",
     "output_type": "stream",
     "text": [
      "Variáveis correlacionadas com IN_TREINEIRO em ordem\n",
      "IN_TREINEIRO              1.000000\n",
      "TP_ST_CONCLUSAO           0.533983\n",
      "TP_PRESENCA_CN            0.094692\n",
      "TP_PRESENCA_CH            0.094692\n",
      "TP_PRESENCA_LC            0.092454\n",
      "TP_PRESENCA_MT            0.092454\n",
      "NU_NOTA_LC                0.083731\n",
      "NU_NOTA_CN                0.080915\n",
      "NU_NOTA_COMP1             0.080326\n",
      "NU_NOTA_CH                0.078276\n",
      "NU_NOTA_COMP2             0.069545\n",
      "NU_NOTA_REDACAO           0.069119\n",
      "NU_NOTA_COMP4             0.068862\n",
      "NU_NOTA_COMP3             0.064340\n",
      "TP_STATUS_REDACAO         0.063190\n",
      "NU_NOTA_COMP5             0.045809\n",
      "TP_COR_RACA               0.009676\n",
      "IN_SABATISTA              0.003824\n",
      "IN_DISLEXIA              -0.003297\n",
      "IN_DISCALCULIA           -0.003297\n",
      "IN_IDOSO                 -0.004663\n",
      "IN_SURDEZ                -0.007374\n",
      "IN_GESTANTE              -0.011893\n",
      "IN_BAIXA_VISAO           -0.013602\n",
      "TP_NACIONALIDADE         -0.015179\n",
      "CO_UF_RESIDENCIA         -0.034944\n",
      "TP_LINGUA                -0.036395\n",
      "TP_ENSINO                -0.225151\n",
      "TP_DEPENDENCIA_ADM_ESC   -0.243705\n",
      "TP_ESCOLA                -0.244562\n",
      "TP_ANO_CONCLUIU          -0.257710\n",
      "NU_IDADE                 -0.295091\n",
      "IN_CEGUEIRA                    NaN\n",
      "Name: IN_TREINEIRO, dtype: float64\n"
     ]
    }
   ],
   "source": [
    "#Verificando variáveis com maiores correlações com IN_TREINEIRO, lembrando que se sim=1 ou não=0\n",
    "#Aleatoriamente\n",
    "correlacao = data_train.select_dtypes(include=[np.number]).corr()\n",
    "print('Variáveis correlacionadas com IN_TREINEIRO em ordem')\n",
    "print(correlacao['IN_TREINEIRO'].sort_values(ascending=False))"
   ]
  },
  {
   "cell_type": "code",
   "execution_count": 70,
   "metadata": {},
   "outputs": [
    {
     "data": {
      "text/plain": [
       "<matplotlib.axes._subplots.AxesSubplot at 0x7fbafb9f0f90>"
      ]
     },
     "execution_count": 70,
     "metadata": {},
     "output_type": "execute_result"
    },
    {
     "data": {
      "image/png": "[encoded data removed]",
      "text/plain": [
       "<Figure size 1440x1440 with 2 Axes>"
      ]
     },
     "metadata": {
      "needs_background": "light"
     },
     "output_type": "display_data"
    }
   ],
   "source": [
    "#Verificando a correlação utilizando um gráfico\n",
    "plt.figure(figsize = (20,20))\n",
    "sns.heatmap(correlacao,square=True, vmax=0.5, cmap='coolwarm', linewidths=0.01)"
   ]
  },
  {
   "cell_type": "code",
   "execution_count": 71,
   "metadata": {},
   "outputs": [
    {
     "name": "stdout",
     "output_type": "stream",
     "text": [
      "['NU_IDADE', 'TP_ST_CONCLUSAO', 'TP_ANO_CONCLUIU', 'TP_ESCOLA']\n"
     ]
    }
   ],
   "source": [
    "#Valores com grande correlação - selecionei eles com base na interpretação do gráfico acima \n",
    "valores_corr = ['NU_IDADE', 'TP_ST_CONCLUSAO' ,'TP_ANO_CONCLUIU', 'TP_ESCOLA']\n",
    "print(valores_corr)"
   ]
  },
  {
   "cell_type": "code",
   "execution_count": 72,
   "metadata": {},
   "outputs": [
    {
     "name": "stdout",
     "output_type": "stream",
     "text": [
      "Quantidade de dados faltantes de data_train\n"
     ]
    },
    {
     "data": {
      "text/plain": [
       "NU_INSCRICAO              0\n",
       "CO_UF_RESIDENCIA          0\n",
       "SG_UF_RESIDENCIA          0\n",
       "NU_IDADE                  0\n",
       "TP_SEXO                   0\n",
       "TP_COR_RACA               0\n",
       "TP_NACIONALIDADE          0\n",
       "TP_ST_CONCLUSAO           0\n",
       "TP_ANO_CONCLUIU           0\n",
       "TP_ESCOLA                 0\n",
       "TP_ENSINO                 0\n",
       "IN_TREINEIRO              0\n",
       "TP_DEPENDENCIA_ADM_ESC    0\n",
       "IN_BAIXA_VISAO            0\n",
       "IN_CEGUEIRA               0\n",
       "IN_SURDEZ                 0\n",
       "IN_DISLEXIA               0\n",
       "IN_DISCALCULIA            0\n",
       "IN_SABATISTA              0\n",
       "IN_GESTANTE               0\n",
       "IN_IDOSO                  0\n",
       "TP_PRESENCA_CN            0\n",
       "TP_PRESENCA_CH            0\n",
       "TP_PRESENCA_LC            0\n",
       "TP_PRESENCA_MT            0\n",
       "NU_NOTA_CN                0\n",
       "NU_NOTA_CH                0\n",
       "NU_NOTA_LC                0\n",
       "TP_LINGUA                 0\n",
       "TP_STATUS_REDACAO         0\n",
       "NU_NOTA_COMP1             0\n",
       "NU_NOTA_COMP2             0\n",
       "NU_NOTA_COMP3             0\n",
       "NU_NOTA_COMP4             0\n",
       "NU_NOTA_COMP5             0\n",
       "NU_NOTA_REDACAO           0\n",
       "Q001                      0\n",
       "Q002                      0\n",
       "Q006                      0\n",
       "Q024                      0\n",
       "Q025                      0\n",
       "Q026                      0\n",
       "Q027                      0\n",
       "Q047                      0\n",
       "dtype: int64"
      ]
     },
     "execution_count": 72,
     "metadata": {},
     "output_type": "execute_result"
    }
   ],
   "source": [
    "#Verificando a quantidade de dados faltantes\n",
    "print('Quantidade de dados faltantes de data_train')\n",
    "data_train.isnull().sum()"
   ]
  },
  {
   "cell_type": "code",
   "execution_count": 73,
   "metadata": {},
   "outputs": [
    {
     "name": "stdout",
     "output_type": "stream",
     "text": [
      "Quantidade de dados faltantes de data_test\n"
     ]
    },
    {
     "data": {
      "text/plain": [
       "NU_INSCRICAO              0\n",
       "CO_UF_RESIDENCIA          0\n",
       "SG_UF_RESIDENCIA          0\n",
       "NU_IDADE                  0\n",
       "TP_SEXO                   0\n",
       "TP_COR_RACA               0\n",
       "TP_NACIONALIDADE          0\n",
       "TP_ST_CONCLUSAO           0\n",
       "TP_ANO_CONCLUIU           0\n",
       "TP_ESCOLA                 0\n",
       "TP_ENSINO                 0\n",
       "TP_DEPENDENCIA_ADM_ESC    0\n",
       "IN_BAIXA_VISAO            0\n",
       "IN_CEGUEIRA               0\n",
       "IN_SURDEZ                 0\n",
       "IN_DISLEXIA               0\n",
       "IN_DISCALCULIA            0\n",
       "IN_SABATISTA              0\n",
       "IN_GESTANTE               0\n",
       "IN_IDOSO                  0\n",
       "TP_PRESENCA_CN            0\n",
       "TP_PRESENCA_CH            0\n",
       "TP_PRESENCA_LC            0\n",
       "TP_PRESENCA_MT            0\n",
       "NU_NOTA_CN                0\n",
       "NU_NOTA_CH                0\n",
       "NU_NOTA_LC                0\n",
       "TP_LINGUA                 0\n",
       "TP_STATUS_REDACAO         0\n",
       "NU_NOTA_COMP1             0\n",
       "NU_NOTA_COMP2             0\n",
       "NU_NOTA_COMP3             0\n",
       "NU_NOTA_COMP4             0\n",
       "NU_NOTA_COMP5             0\n",
       "NU_NOTA_REDACAO           0\n",
       "Q001                      0\n",
       "Q002                      0\n",
       "Q006                      0\n",
       "Q024                      0\n",
       "Q025                      0\n",
       "Q026                      0\n",
       "Q027                      0\n",
       "Q047                      0\n",
       "dtype: int64"
      ]
     },
     "execution_count": 73,
     "metadata": {},
     "output_type": "execute_result"
    }
   ],
   "source": [
    "print('Quantidade de dados faltantes de data_test')\n",
    "data_test.isnull().sum()"
   ]
  },
  {
   "cell_type": "code",
   "execution_count": 74,
   "metadata": {},
   "outputs": [],
   "source": [
    "#Colocando zero nos dados faltantes\n",
    "data_train.fillna(0, inplace=True)\n",
    "data_test.fillna(0, inplace=True)"
   ]
  },
  {
   "cell_type": "code",
   "execution_count": 75,
   "metadata": {},
   "outputs": [
    {
     "name": "stdout",
     "output_type": "stream",
     "text": [
      " DATA_TRAIN: 0\n",
      " DATA_TEST: 0\n"
     ]
    }
   ],
   "source": [
    "#Me certificando de que foram trocados por zero todos os valores nulos\n",
    "print(' DATA_TRAIN:',data_train.isnull().sum().sum())\n",
    "print(' DATA_TEST:',data_test.isnull().sum().sum())"
   ]
  },
  {
   "cell_type": "code",
   "execution_count": 76,
   "metadata": {},
   "outputs": [],
   "source": [
    "#Separação dos dados para treinamento e teste\n",
    "x = data_train[valores_corr]\n",
    "y = data_train['IN_TREINEIRO']\n",
    "\n",
    "x_treino, x_teste, y_treino, y_teste = train_test_split(x, y, test_size=0.33, random_state=42)\n"
   ]
  },
  {
   "cell_type": "code",
   "execution_count": 77,
   "metadata": {},
   "outputs": [],
   "source": [
    "modelo = KNeighborsClassifier(n_neighbors=5)\n",
    "modelo.fit(x, y)\n",
    "dados_teste = data_test[valores_corr]\n",
    "predicao = modelo.predict(dados_teste)\n",
    "resposta = pd.DataFrame(data_test['NU_INSCRICAO'])\n",
    "resposta['IN_TREINEIRO'] = predicao"
   ]
  },
  {
   "cell_type": "code",
   "execution_count": 78,
   "metadata": {},
   "outputs": [
    {
     "name": "stdout",
     "output_type": "stream",
     "text": [
      "                                  NU_INSCRICAO  IN_TREINEIRO\n",
      "0     ba0cc30ba34e7a46764c09dfc38ed83d15828897             0\n",
      "1     177f281c68fa032aedbd842a745da68490926cd2             0\n",
      "2     6cf0d8b97597d7625cdedc7bdb6c0f052286c334             1\n",
      "3     5c356d810fa57671402502cd0933e5601a2ebf1e             0\n",
      "4     df47c07bd881c2db3f38c6048bf77c132ad0ceb3             0\n",
      "5     3f28749fb79fb059caf5aed79625a5addfd7a91a             0\n",
      "6     bb2a0edddf3c59181a1496390aaaee7f32624d9d             1\n",
      "7     cc7cab347fe5455aae983f3701ca40f84dc01949             0\n",
      "8     95e9338f1da02f7bfa0e3194130afdccc0fb5457             1\n",
      "9     155f84f2ee5b34e658f2adcc70f2ec83e37040cb             0\n",
      "10    40f4566da0536c486a34ec6ba85257eaebf3255c             0\n",
      "11    366749b2ea3e6023fdbfdbf7c6596dfab31885d9             0\n",
      "12    52502d4aca10ad7261a4fe9983ddca1fd8b45c31             0\n",
      "13    52b20639bb0294b01c9be89f80cf682ac4d9f133             0\n",
      "14    1718c649736b61d49a714f2a1c0a3e37a4d7c3b4             0\n",
      "15    2410aa55f6eedc95bf049e118f7686714b7efca7             0\n",
      "16    a82ffea78453d320efe7800590c717a32a9b9c7a             0\n",
      "17    4a5b86a6ea23f1551456cbf49ed54885992de4ce             1\n",
      "18    d3a6a5746484c9046c1fc1f58f5a0a4da252c391             0\n",
      "19    d18ae8829870011d4a3b1651e0bfa1640b8e9eb2             0\n",
      "20    b79c3f5daf56ab613a6ee75c8ad7d190cca42a78             0\n",
      "21    f2a7137f1f083351e14c6625a25cdd6809abb9eb             0\n",
      "22    bc9bf0eedfd80d0ce69a6df520b634790f3ce448             0\n",
      "23    c567a1f6e1d7a22b58ad729bdc2a4b2836da2039             0\n",
      "24    a309ebeff49f88dbab213711495fbb13db2328ef             0\n",
      "25    18d4f88a769aa62d7732a5fa610d935893da52ae             0\n",
      "26    c4a95595f52e40030703fda3dbfd7a7932395d3b             0\n",
      "27    d3464236d53369514fbf151775b514a596a67400             0\n",
      "28    eaafa5442e02ae0eb1269507572450c52aa373a6             0\n",
      "29    e9e4c0a15dbd4e92cace2e00b95c16ad08632e17             0\n",
      "...                                        ...           ...\n",
      "4540  d4dfcd1c05a30cdbea87c1e98f8663e456c86d0e             0\n",
      "4541  77011c6ec5792e28086ba34d0e53faf28e7a0809             0\n",
      "4542  89346606f1baa1450cdc099107eeef05342e5852             0\n",
      "4543  5f512fb3556a7a567bdca975191c40ca08d492b8             0\n",
      "4544  f1f4cbbebcf27ed28d720198a5018fb362875af1             0\n",
      "4545  f816860ce5c2b57bd762b58837fe3ba39f59fa2b             0\n",
      "4546  1465217e49913041851bc4ba75c17736cb9a6368             0\n",
      "4547  29db02b5c661d7ba17547fcb84bb3df3f2345607             0\n",
      "4548  3a166e9f4f34e0766e0d8bc74a6caee3a573bc5f             0\n",
      "4549  5c755a25a3441f56891e98d571e5237392856fe1             0\n",
      "4550  27b674aea91a8a3c6652212e3cc9dd41370095b9             0\n",
      "4551  e29324716ee9ce7bea9383480aa98f59c7a6d885             0\n",
      "4552  9eaf628037ff65afa2a424d2329a38e80b326f8f             0\n",
      "4553  46d949289f8eddad46c9799671a4c1a63d6b2bf1             0\n",
      "4554  bfcb0cd5751b3a8d7c7447bec542235242c36caf             1\n",
      "4555  b63a50e01747dfd607f88af029ec89324da61966             1\n",
      "4556  cdf6d93623ca5116a0d483a8682b5f35eb99f6f3             0\n",
      "4557  d4e35bc6c21e119c78c411bdd4ff3bdab7fa7b1b             0\n",
      "4558  80689f334285ddc088d8ee19c28bc289de2126e7             0\n",
      "4559  1c4d5d329dd792c39e52de9547718d7bdb307ded             0\n",
      "4560  e4d38f80b6c869e4748cbef9373a22cc5c775728             0\n",
      "4561  ea385ce7d39aa1803bbbe7eb7dd9ff574dbbd7b9             0\n",
      "4562  7e3bcf2966378b00af9ca687bcdb8c5c85e9cfeb             0\n",
      "4563  3b71684faf93eac1ae36380f35c54253e4b13509             0\n",
      "4564  96f0f13cd1e74986eddd4a97bf1a3006a8ce2f74             0\n",
      "4565  361b7fcd8867119550fe2af5aa729ffad89a7cf5             0\n",
      "4566  d8a0e4c9e29494cc9bba2422bd79333931475ee1             0\n",
      "4567  3f1c3388244df8d6521e983a809292d9f3bca643             0\n",
      "4568  1778e9c4cef591beb6b986d191d15ed05de816b0             0\n",
      "4569  096809759695097e384e766d2d9e23a34fc81610             0\n",
      "\n",
      "[4570 rows x 2 columns]\n"
     ]
    }
   ],
   "source": [
    "print(resposta)"
   ]
  },
  {
   "cell_type": "code",
   "execution_count": 80,
   "metadata": {},
   "outputs": [],
   "source": [
    "#Salvando no arquivo csv\n",
    "resposta.to_csv(\"answer.csv\", index=False)\n"
   ]
  }
 ],
 "metadata": {
  "kernelspec": {
   "display_name": "Python 3",
   "language": "python",
   "name": "python3"
  },
  "language_info": {
   "codemirror_mode": {
    "name": "ipython",
    "version": 3
   },
   "file_extension": ".py",
   "mimetype": "text/x-python",
   "name": "python",
   "nbconvert_exporter": "python",
   "pygments_lexer": "ipython3",
   "version": "3.7.6"
  }
 },
 "nbformat": 4,
 "nbformat_minor": 2
}
